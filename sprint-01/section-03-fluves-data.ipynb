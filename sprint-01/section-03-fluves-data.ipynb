{
 "cells": [
  {
   "cell_type": "markdown",
   "id": "d84f873a-6069-414f-8c3e-32d9fb369f2a",
   "metadata": {},
   "source": [
    "# Playground for Working with Fluves Data\n",
    "\n",
    "In the following notebook you will see how to open and start playing around the data provided by Fluves. "
   ]
  },
  {
   "cell_type": "code",
   "execution_count": null,
   "id": "c4c5fc49-de43-4b0c-a595-4476931680c1",
   "metadata": {
    "tags": []
   },
   "outputs": [],
   "source": [
    "import pandas as pd\n",
    "import plotly.express as px \n",
    "import numpy as np "
   ]
  },
  {
   "cell_type": "markdown",
   "id": "f873b828-37a7-4dae-a666-e050e04fd286",
   "metadata": {},
   "source": [
    "### Load the data"
   ]
  },
  {
   "cell_type": "code",
   "execution_count": null,
   "id": "a51ff00b-f9a1-4ab5-8b66-2d7e255a8199",
   "metadata": {
    "tags": []
   },
   "outputs": [],
   "source": [
    "df_wq = pd.read_excel('sprint-01-data/sensor-data-extract.xlsx')\n",
    "df_wq.head()"
   ]
  },
  {
   "cell_type": "markdown",
   "id": "1e1ce88d-6c7e-4da3-adb9-ca166904ec70",
   "metadata": {},
   "source": [
    "Print the column names, variable names and sensor names available"
   ]
  },
  {
   "cell_type": "code",
   "execution_count": null,
   "id": "314e0105-efd8-47b4-932d-c732f29a650e",
   "metadata": {
    "tags": []
   },
   "outputs": [],
   "source": [
    "print('the column names are: ', df_wq.columns)\n",
    "\n",
    "print('the variables names are: ', np.unique(df_wq['variable_name']))\n",
    "\n",
    "print('the sensor names are: ',np.unique(df_wq['sensor_name']))\n"
   ]
  },
  {
   "cell_type": "markdown",
   "id": "ccb7795c-454e-4379-afb6-c9e614db5b77",
   "metadata": {},
   "source": [
    "### Focus on just the inlet sensor\n",
    "From the information provided by Fluves One sensor is placed at the inlet of a rainshell tank (sensor _0002) and the other sensor is placed at the outlet of the tank (_0001). Let's select only the data from the sensor at the inlet, as this is what we will use to trigger an event. "
   ]
  },
  {
   "cell_type": "code",
   "execution_count": null,
   "id": "8943ec6b-7649-46bf-a232-712c952647f0",
   "metadata": {
    "tags": []
   },
   "outputs": [],
   "source": [
    "df_wq_s02 = df_wq.loc[df_wq['sensor_name'] == 'iot_logger_ydoc_ml417_0002']\n",
    "df_wq_s02.head()\n"
   ]
  },
  {
   "cell_type": "code",
   "execution_count": null,
   "id": "a3ca4ec9-8a0a-4fa9-9610-27c5548fdfff",
   "metadata": {
    "tags": []
   },
   "outputs": [],
   "source": [
    "print('the start time of data is: ', df_wq_s02['time'].iloc[0])\n",
    "print('the end time of data is: ', df_wq_s02['time'].iloc[-1])"
   ]
  },
  {
   "cell_type": "markdown",
   "id": "4a0b09f9-4652-4270-b2f3-928b1909f435",
   "metadata": {},
   "source": [
    "### Filter single or multiple variables as their own dataframe\n",
    "This is just one way to work with the data, there are other ways to manipulate depending on how you want things analyzed or graphed! Depending on the use case, it might not be necessary to extract each variable on its own. \n"
   ]
  },
  {
   "cell_type": "code",
   "execution_count": null,
   "id": "3c640482-4a23-4247-a888-2225ea05c90d",
   "metadata": {},
   "outputs": [],
   "source": [
    "#Example for one variable:\n",
    "df_filter_ec = df_wq_s02.loc[df_wq_s02['variable_name'] == 'ec_water_ct_G42']\n",
    "df_filter_temp = df_wq_s02.loc[df_wq_s02['variable_name'] == 'temp_water_ct_CEL']\n",
    "\n",
    "#Example for two variables:\n",
    "df_filter = df_wq_s02.loc[(df_wq_s02['variable_name'] == 'ec_water_ct_G42') | (df_wq_s02['variable_name'] == 'temp_water_ct_CEL')]"
   ]
  },
  {
   "cell_type": "code",
   "execution_count": null,
   "id": "321fdcea-4ff5-4fd0-9ee7-18b1f4504956",
   "metadata": {
    "tags": []
   },
   "outputs": [],
   "source": [
    "fig = px.line(df_filter, x=\"time\", y=\"value\", color='variable_name',title = 'some meaningful title')\n",
    "fig.show()"
   ]
  },
  {
   "cell_type": "markdown",
   "id": "10fd6e21-0a92-449d-aae6-d7accd016c3b",
   "metadata": {},
   "source": [
    "Not easy to see any relationships with EC and temperature like, can add second axis, this is more complex, for now we will add two seperate plots:"
   ]
  },
  {
   "cell_type": "code",
   "execution_count": null,
   "id": "3c27d604-d951-48d2-9bf5-49e0ba4fbeb6",
   "metadata": {
    "tags": []
   },
   "outputs": [],
   "source": [
    "fig = px.line(df_filter_ec, x=\"time\", y=\"value\",title = 'EC')\n",
    "fig.show()\n",
    "fig = px.line(df_filter_temp, x=\"time\", y=\"value\",title = 'temperature')\n",
    "fig.update_traces(line_color='red')\n",
    "\n",
    "fig.show()"
   ]
  },
  {
   "cell_type": "markdown",
   "id": "6beacb1b-433f-4e26-9bfc-113c28c78e84",
   "metadata": {},
   "source": [
    "### Grab OBSERVED weather data"
   ]
  },
  {
   "cell_type": "code",
   "execution_count": null,
   "id": "0e6e5ac0-fa73-4140-8691-127a15c342d2",
   "metadata": {
    "tags": []
   },
   "outputs": [],
   "source": [
    "from meteostat import Point, Hourly\n",
    "from datetime import datetime\n",
    "\n",
    "# Set time period\n",
    "start = datetime(2023, 11, 6)\n",
    "end = datetime(2024, 1, 3)\n",
    "\n",
    "# Create Point for Antwerp \n",
    "antwerp = Point(51.2213, 4.4051)\n",
    "\n",
    "# Get daily data for 2018\n",
    "weather_data = Hourly(antwerp, start, end)\n",
    "weather_data = weather_data.fetch()"
   ]
  },
  {
   "cell_type": "code",
   "execution_count": null,
   "id": "9716ef6b-e31e-4648-a1fd-02e91a055944",
   "metadata": {
    "tags": []
   },
   "outputs": [],
   "source": [
    "weather_data.head()"
   ]
  },
  {
   "cell_type": "code",
   "execution_count": null,
   "id": "ec3133bc-57ee-4a89-8326-678dd8fac077",
   "metadata": {
    "tags": []
   },
   "outputs": [],
   "source": [
    "fig = px.line(df_filter_ec, x=\"time\", y=\"value\",title = 'EC')\n",
    "fig.update_traces(line_color='red')\n",
    "\n",
    "fig.show()\n",
    "fig = px.line(weather_data, x=weather_data.index, y=weather_data.prcp,title = 'precipitation')\n",
    "\n",
    "fig.show()"
   ]
  },
  {
   "cell_type": "code",
   "execution_count": null,
   "id": "853831e3-61ad-4cb1-9816-52772d857cc9",
   "metadata": {},
   "outputs": [],
   "source": []
  }
 ],
 "metadata": {
  "kernelspec": {
   "display_name": "Python 3 (ipykernel)",
   "language": "python",
   "name": "python3"
  },
  "language_info": {
   "codemirror_mode": {
    "name": "ipython",
    "version": 3
   },
   "file_extension": ".py",
   "mimetype": "text/x-python",
   "name": "python",
   "nbconvert_exporter": "python",
   "pygments_lexer": "ipython3",
   "version": "3.9.16"
  }
 },
 "nbformat": 4,
 "nbformat_minor": 5
}
